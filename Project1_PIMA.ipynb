{
  "nbformat": 4,
  "nbformat_minor": 0,
  "metadata": {
    "colab": {
      "name": "Project1_PIMA.ipynb",
      "provenance": []
    },
    "kernelspec": {
      "name": "python3",
      "display_name": "Python 3"
    }
  },
  "cells": [
    {
      "cell_type": "markdown",
      "metadata": {
        "id": "lIqA0eSI_CKX"
      },
      "source": [
        "#**Dataset** **details**"
      ]
    },
    {
      "cell_type": "markdown",
      "metadata": {
        "id": "_jjYWigY1rGT"
      },
      "source": [
        "Based on the medical measurements used in the dataset, the purpose of the dataset is to diagnostically determine whether or not a person has diabetes.\n",
        "\n",
        "Multiple medical prediction variables and one outcome attribute compose datasets. Predictor factors include the patient's number of births, their BMI, level of insulin, age, and so on."
      ]
    },
    {
      "cell_type": "code",
      "metadata": {
        "id": "nE4Yt6AOqfVi"
      },
      "source": [
        "import pandas as pd\n",
        "import numpy as np\n",
        "import matplotlib.pyplot as plt \n",
        "\n",
        "diabetes_data = pd.read_csv(\"/content/drive/My Drive/Colab Notebooks/Machine Learning/Project 1/diabetes.csv\")\n"
      ],
      "execution_count": 451,
      "outputs": []
    },
    {
      "cell_type": "code",
      "metadata": {
        "id": "48tHGVIWXdeK",
        "outputId": "d9d34ba1-b099-4613-f34e-81e65d2bd440",
        "colab": {
          "base_uri": "https://localhost:8080/",
          "height": 34
        }
      },
      "source": [
        "diabetes_data.shape"
      ],
      "execution_count": 452,
      "outputs": [
        {
          "output_type": "execute_result",
          "data": {
            "text/plain": [
              "(768, 9)"
            ]
          },
          "metadata": {
            "tags": []
          },
          "execution_count": 452
        }
      ]
    },
    {
      "cell_type": "code",
      "metadata": {
        "id": "gr1f2dXfqvN8",
        "outputId": "9df81674-08a1-47b6-cf69-28bd7417fbca",
        "colab": {
          "base_uri": "https://localhost:8080/",
          "height": 359
        }
      },
      "source": [
        "diabetes_data.head(10)"
      ],
      "execution_count": 453,
      "outputs": [
        {
          "output_type": "execute_result",
          "data": {
            "text/html": [
              "<div>\n",
              "<style scoped>\n",
              "    .dataframe tbody tr th:only-of-type {\n",
              "        vertical-align: middle;\n",
              "    }\n",
              "\n",
              "    .dataframe tbody tr th {\n",
              "        vertical-align: top;\n",
              "    }\n",
              "\n",
              "    .dataframe thead th {\n",
              "        text-align: right;\n",
              "    }\n",
              "</style>\n",
              "<table border=\"1\" class=\"dataframe\">\n",
              "  <thead>\n",
              "    <tr style=\"text-align: right;\">\n",
              "      <th></th>\n",
              "      <th>Pregnancies</th>\n",
              "      <th>Glucose</th>\n",
              "      <th>BloodPressure</th>\n",
              "      <th>SkinThickness</th>\n",
              "      <th>Insulin</th>\n",
              "      <th>BMI</th>\n",
              "      <th>DiabetesPedigreeFunction</th>\n",
              "      <th>Age</th>\n",
              "      <th>Outcome</th>\n",
              "    </tr>\n",
              "  </thead>\n",
              "  <tbody>\n",
              "    <tr>\n",
              "      <th>0</th>\n",
              "      <td>6</td>\n",
              "      <td>148</td>\n",
              "      <td>72</td>\n",
              "      <td>35</td>\n",
              "      <td>0</td>\n",
              "      <td>33.6</td>\n",
              "      <td>0.627</td>\n",
              "      <td>50</td>\n",
              "      <td>1</td>\n",
              "    </tr>\n",
              "    <tr>\n",
              "      <th>1</th>\n",
              "      <td>1</td>\n",
              "      <td>85</td>\n",
              "      <td>66</td>\n",
              "      <td>29</td>\n",
              "      <td>0</td>\n",
              "      <td>26.6</td>\n",
              "      <td>0.351</td>\n",
              "      <td>31</td>\n",
              "      <td>0</td>\n",
              "    </tr>\n",
              "    <tr>\n",
              "      <th>2</th>\n",
              "      <td>8</td>\n",
              "      <td>183</td>\n",
              "      <td>64</td>\n",
              "      <td>0</td>\n",
              "      <td>0</td>\n",
              "      <td>23.3</td>\n",
              "      <td>0.672</td>\n",
              "      <td>32</td>\n",
              "      <td>1</td>\n",
              "    </tr>\n",
              "    <tr>\n",
              "      <th>3</th>\n",
              "      <td>1</td>\n",
              "      <td>89</td>\n",
              "      <td>66</td>\n",
              "      <td>23</td>\n",
              "      <td>94</td>\n",
              "      <td>28.1</td>\n",
              "      <td>0.167</td>\n",
              "      <td>21</td>\n",
              "      <td>0</td>\n",
              "    </tr>\n",
              "    <tr>\n",
              "      <th>4</th>\n",
              "      <td>0</td>\n",
              "      <td>137</td>\n",
              "      <td>40</td>\n",
              "      <td>35</td>\n",
              "      <td>168</td>\n",
              "      <td>43.1</td>\n",
              "      <td>2.288</td>\n",
              "      <td>33</td>\n",
              "      <td>1</td>\n",
              "    </tr>\n",
              "    <tr>\n",
              "      <th>5</th>\n",
              "      <td>5</td>\n",
              "      <td>116</td>\n",
              "      <td>74</td>\n",
              "      <td>0</td>\n",
              "      <td>0</td>\n",
              "      <td>25.6</td>\n",
              "      <td>0.201</td>\n",
              "      <td>30</td>\n",
              "      <td>0</td>\n",
              "    </tr>\n",
              "    <tr>\n",
              "      <th>6</th>\n",
              "      <td>3</td>\n",
              "      <td>78</td>\n",
              "      <td>50</td>\n",
              "      <td>32</td>\n",
              "      <td>88</td>\n",
              "      <td>31.0</td>\n",
              "      <td>0.248</td>\n",
              "      <td>26</td>\n",
              "      <td>1</td>\n",
              "    </tr>\n",
              "    <tr>\n",
              "      <th>7</th>\n",
              "      <td>10</td>\n",
              "      <td>115</td>\n",
              "      <td>0</td>\n",
              "      <td>0</td>\n",
              "      <td>0</td>\n",
              "      <td>35.3</td>\n",
              "      <td>0.134</td>\n",
              "      <td>29</td>\n",
              "      <td>0</td>\n",
              "    </tr>\n",
              "    <tr>\n",
              "      <th>8</th>\n",
              "      <td>2</td>\n",
              "      <td>197</td>\n",
              "      <td>70</td>\n",
              "      <td>45</td>\n",
              "      <td>543</td>\n",
              "      <td>30.5</td>\n",
              "      <td>0.158</td>\n",
              "      <td>53</td>\n",
              "      <td>1</td>\n",
              "    </tr>\n",
              "    <tr>\n",
              "      <th>9</th>\n",
              "      <td>8</td>\n",
              "      <td>125</td>\n",
              "      <td>96</td>\n",
              "      <td>0</td>\n",
              "      <td>0</td>\n",
              "      <td>0.0</td>\n",
              "      <td>0.232</td>\n",
              "      <td>54</td>\n",
              "      <td>1</td>\n",
              "    </tr>\n",
              "  </tbody>\n",
              "</table>\n",
              "</div>"
            ],
            "text/plain": [
              "   Pregnancies  Glucose  BloodPressure  ...  DiabetesPedigreeFunction  Age  Outcome\n",
              "0            6      148             72  ...                     0.627   50        1\n",
              "1            1       85             66  ...                     0.351   31        0\n",
              "2            8      183             64  ...                     0.672   32        1\n",
              "3            1       89             66  ...                     0.167   21        0\n",
              "4            0      137             40  ...                     2.288   33        1\n",
              "5            5      116             74  ...                     0.201   30        0\n",
              "6            3       78             50  ...                     0.248   26        1\n",
              "7           10      115              0  ...                     0.134   29        0\n",
              "8            2      197             70  ...                     0.158   53        1\n",
              "9            8      125             96  ...                     0.232   54        1\n",
              "\n",
              "[10 rows x 9 columns]"
            ]
          },
          "metadata": {
            "tags": []
          },
          "execution_count": 453
        }
      ]
    },
    {
      "cell_type": "markdown",
      "metadata": {
        "id": "sZ52GsDb4OZq"
      },
      "source": [
        "###Outcome\n",
        "Class variable (0 or 1) 268 of 768 are 1, the others are 0\n",
        "\n",
        "There are not as many people with diabetes as people with non-diabetes. Because of a limited number of cases, it is popular in medical diagnosis. We call it as Imbalanced data."
      ]
    },
    {
      "cell_type": "code",
      "metadata": {
        "id": "yD7YcASJq2JC",
        "outputId": "76a94cdd-0434-4fdf-c455-8fc861d6e864",
        "colab": {
          "base_uri": "https://localhost:8080/",
          "height": 352
        }
      },
      "source": [
        "fig = plt.figure()\n",
        "count=diabetes_data['Outcome'].value_counts()\n",
        "ax = fig.add_axes([0,0,1,1])\n",
        "ax.set(xticklabels = [\"No\", \"Yes\"])\n",
        "outcome_ = ['0', '1']\n",
        "count_bar = [count[0],count[1]]\n",
        "ax.bar(outcome_,count_bar)\n",
        "plt.ylabel('Number of Case')\n",
        "plt.title('Diabetes Person Count')\n",
        "plt.show()\n"
      ],
      "execution_count": 454,
      "outputs": [
        {
          "output_type": "display_data",
          "data": {
            "image/png": "[encoded data removed]",
            "text/plain": [
              "<Figure size 432x288 with 1 Axes>"
            ]
          },
          "metadata": {
            "tags": [],
            "needs_background": "light"
          }
        }
      ]
    },
    {
      "cell_type": "markdown",
      "metadata": {
        "id": "J8ZPeyOu8PM2"
      },
      "source": [
        "###Correlation Between Features\n",
        "\n",
        "An significant part of the method of data processing is the testing of associations. This analysis is one of the tools used to assess which attributes most influence the target variable, and is used in the prediction.\n",
        "\n",
        "Here we found that Glucose, BMI, Age and then Pregnancies are main feature which plays important role in prediction of outcome variable in this dataset."
      ]
    },
    {
      "cell_type": "code",
      "metadata": {
        "id": "s7PIdNc9q5TT",
        "outputId": "8f4a57cb-971d-450c-9bbc-93979992781c",
        "colab": {
          "base_uri": "https://localhost:8080/",
          "height": 636
        }
      },
      "source": [
        "import seaborn as sns\n",
        "plt.figure(figsize=(15,8))\n",
        "sns.heatmap(diabetes_data.corr(),annot = True,fmt='.2g',vmin=0, vmax=1)\n",
        "plt.title('Correlation between features')"
      ],
      "execution_count": 455,
      "outputs": [
        {
          "output_type": "execute_result",
          "data": {
            "text/plain": [
              "Text(0.5, 1.0, 'Correlation between features')"
            ]
          },
          "metadata": {
            "tags": []
          },
          "execution_count": 455
        },
        {
          "output_type": "display_data",
          "data": {
            "image/png": "[encoded data removed]",
            "text/plain": [
              "<Figure size 1080x576 with 2 Axes>"
            ]
          },
          "metadata": {
            "tags": [],
            "needs_background": "light"
          }
        }
      ]
    },
    {
      "cell_type": "markdown",
      "metadata": {
        "id": "kXvTiQE_-ibD"
      },
      "source": [
        "###Complete Data Distribution\n",
        "\n",
        "This is a complete representation of the distribution of data provided to us in histogram format"
      ]
    },
    {
      "cell_type": "code",
      "metadata": {
        "id": "4FaZW2g27SXF",
        "outputId": "e4755bbe-5c30-4101-c3b6-81644041a5c5",
        "colab": {
          "base_uri": "https://localhost:8080/",
          "height": 1000
        }
      },
      "source": [
        "diabetes_data.hist(figsize=(10,20))"
      ],
      "execution_count": 456,
      "outputs": [
        {
          "output_type": "execute_result",
          "data": {
            "text/plain": [
              "array([[<matplotlib.axes._subplots.AxesSubplot object at 0x7f0eea1a7828>,\n",
              "        <matplotlib.axes._subplots.AxesSubplot object at 0x7f0eea04bb70>,\n",
              "        <matplotlib.axes._subplots.AxesSubplot object at 0x7f0ee9ffeef0>],\n",
              "       [<matplotlib.axes._subplots.AxesSubplot object at 0x7f0ee9fbc2b0>,\n",
              "        <matplotlib.axes._subplots.AxesSubplot object at 0x7f0ee9f6e630>,\n",
              "        <matplotlib.axes._subplots.AxesSubplot object at 0x7f0ee9f219b0>],\n",
              "       [<matplotlib.axes._subplots.AxesSubplot object at 0x7f0ee9f54d30>,\n",
              "        <matplotlib.axes._subplots.AxesSubplot object at 0x7f0ee9f130b8>,\n",
              "        <matplotlib.axes._subplots.AxesSubplot object at 0x7f0ee9f13128>]],\n",
              "      dtype=object)"
            ]
          },
          "metadata": {
            "tags": []
          },
          "execution_count": 456
        },
        {
          "output_type": "display_data",
          "data": {
            "image/png": "[encoded data removed]",
            "text/plain": [
              "<Figure size 720x1440 with 9 Axes>"
            ]
          },
          "metadata": {
            "tags": [],
            "needs_background": "light"
          }
        }
      ]
    },
    {
      "cell_type": "markdown",
      "metadata": {
        "id": "RLtIkJaZByLm"
      },
      "source": [
        "By this plot we can see that the person whose glucose level is high are most likely to be diabetic. As well as we can also say that person having both insulin level and glucose level high are most likely to be diabetic"
      ]
    },
    {
      "cell_type": "code",
      "metadata": {
        "id": "bB_IvIQ5rBR_",
        "outputId": "72fef862-de5d-4eeb-c4dd-e3c5eca63920",
        "colab": {
          "base_uri": "https://localhost:8080/",
          "height": 514
        }
      },
      "source": [
        "plt.figure(figsize=(15,8))\n",
        "sns.scatterplot(data=diabetes_data, x=\"Glucose\", y=\"Insulin\", hue=\"Outcome\")"
      ],
      "execution_count": 457,
      "outputs": [
        {
          "output_type": "execute_result",
          "data": {
            "text/plain": [
              "<matplotlib.axes._subplots.AxesSubplot at 0x7f0ee9ce9dd8>"
            ]
          },
          "metadata": {
            "tags": []
          },
          "execution_count": 457
        },
        {
          "output_type": "display_data",
          "data": {
            "image/png": "[encoded data removed]",
            "text/plain": [
              "<Figure size 1080x576 with 1 Axes>"
            ]
          },
          "metadata": {
            "tags": [],
            "needs_background": "light"
          }
        }
      ]
    },
    {
      "cell_type": "markdown",
      "metadata": {
        "id": "hyiondEyC6Pe"
      },
      "source": [
        "###Train-Test Split of Data\n",
        "\n",
        "The train-test split is a technique for testing a machine learning algorithm's output. This involves a dataset being taken and divided into two parts. First part is used to train/fit the model and is referred to as the training dataset. The second part is not used to train the algorithm instead, it is used to give input element of the dataset, then predictions are made and the predicted values are compared. This second dataset is known as test dataset.\n",
        "\n",
        "In this dataset I have choose a 20% split percentage. That is 80% would be my training set and 20% would be my test set. I have taken this split by considering several parameters like computational cost in both training and testing the model. As well as representativeness of training set."
      ]
    },
    {
      "cell_type": "code",
      "metadata": {
        "id": "jZg0VAxugyOC"
      },
      "source": [
        "from sklearn.model_selection import train_test_split\n",
        "\n",
        "X_diabetes_data=diabetes_data.drop(['Outcome'],1).values\n",
        "y_diabetes_data=diabetes_data['Outcome'].values\n",
        "X_train, X_test, y_train, y_test = train_test_split(X_diabetes_data, y_diabetes_data,test_size=0.2,random_state=0)\n"
      ],
      "execution_count": 458,
      "outputs": []
    },
    {
      "cell_type": "markdown",
      "metadata": {
        "id": "o3MWBT2JHSTC"
      },
      "source": [
        "#Algorithm Description\n",
        "\n",
        "###KNN Algorithm \n",
        "\n",
        "In K, meaning algorithm, we would look at the K nearest training data points for each test data point and take the most frequently occurring classes and assign the test data to that class. K reflects the sum of training data points that lie near the evaluation data point that we are going to use to locate the class.\n",
        "\n",
        "1. Load the training and test data \n",
        "2. Choose the value of K \n",
        "3. For each point in test data:\n",
        "       - find the distance to all training data points\n",
        "       - store the distances in a list and sort it \n",
        "       - choose the first k points \n",
        "       - assign a class to the test point based on the majority of classes present in the chosen points\n",
        "4. End"
      ]
    },
    {
      "cell_type": "markdown",
      "metadata": {
        "id": "aOrY6aGp1KQk"
      },
      "source": [
        "### Feature Scaling\n",
        "\n",
        "####Standardization\n",
        "\n",
        "The algorithm should not be biased towards variables with higher magnitude. To overcome this problem, we can bring down all the variables to the same scale. One of the most common technique to do so is normalization where we calculate the mean and standard deviation of the variable. Then for each observation, we subtract the mean and then divide by the standard deviation of that variable:\n",
        "\n",
        "\n",
        "x = (x-u)/sigma \n",
        "\n",
        "Where x is the original feature vector, 'u' is the mean of that feature vector, and sigma is its standard deviation."
      ]
    },
    {
      "cell_type": "code",
      "metadata": {
        "id": "atT0wvSwCacP"
      },
      "source": [
        "def standardise(X_train,X_test):\n",
        "    mean = np.mean(X_train, axis=0)\n",
        "    scale = np.std(X_train, axis=0, ddof=1)\n",
        "    X_std = (X_train - mean) / scale\n",
        "    Xte_std = (X_test - mean) / scale\n",
        "    return X_std,Xte_std"
      ],
      "execution_count": 459,
      "outputs": []
    },
    {
      "cell_type": "code",
      "metadata": {
        "id": "lL4UJi-sCb4m"
      },
      "source": [
        "X_train,X_test = standardise(X_train,X_test)"
      ],
      "execution_count": 460,
      "outputs": []
    },
    {
      "cell_type": "markdown",
      "metadata": {
        "id": "o05Yjogl2xFV"
      },
      "source": [
        "###Distance Metrics\n",
        "\n",
        "####Euclidean distance\n",
        "The Euclidean distance between two points in either the plane or 3-dimensional space measures the length of a segment connecting the two points. It is the most obvious way of representing distance between two points.\n",
        "\n",
        "The Pythagorean Theorem can be used to calculate the distance between two points, as shown in the figure below. If the points (x1,y1) and (x2,y2) are in 2-dimensional space, then the Euclidean distance between them is (x2−x1)2+(y2−y1)2‾‾‾‾‾‾‾‾‾‾‾‾‾‾‾‾‾‾‾‾‾√.\n",
        "\n"
      ]
    },
    {
      "cell_type": "code",
      "metadata": {
        "id": "2SSu2kiHGQCq"
      },
      "source": [
        "def Euclidean(x1, x2): #it is used for calculating euclidean distance\n",
        "    z = np.subtract(x1, x2)\n",
        "    t = np.square(z)\n",
        "    distance = np.sum(t)\n",
        "    return np.sqrt(distance)"
      ],
      "execution_count": 461,
      "outputs": []
    },
    {
      "cell_type": "markdown",
      "metadata": {
        "id": "nSwfx_-H9Blb"
      },
      "source": [
        "####Manhattan Distance\n",
        "The Manhattan distance between two vectors (city blocks) is equal to the one-norm of the distance between the vectors.\n",
        "The Manhattan distance as the sum of absolute differences\n",
        "\n",
        "ManhattanDistance [{a, b, c}, {x, y, z}] = Abs [a − x] + Abs [b − y] + Abs [c − z]"
      ]
    },
    {
      "cell_type": "code",
      "metadata": {
        "id": "DM0hxPtMGRrE"
      },
      "source": [
        "def Manhattan(x1, x2): #it is used for calculating Manhattan distance\n",
        "    distance = 0\n",
        "    for x in range(len(x1)-1):\n",
        "        distance += abs(x1[x] - x2[x])\n",
        "    return distance"
      ],
      "execution_count": 462,
      "outputs": []
    },
    {
      "cell_type": "markdown",
      "metadata": {
        "id": "4HWwQgpsCPj6"
      },
      "source": [
        "####Chebyshev distance\n",
        "\n",
        "The Chebyshev distance calculation, commonly known as the \"maximum metric\" in mathematics, measures distance between two points as the maximum difference over any of their axis values. In a 2D grid, for instance, if we have two points (x1, y1), and (x2, y2), the Chebyshev distance between is max(y2 - y1, x2 - x1).\n",
        "\n"
      ]
    },
    {
      "cell_type": "code",
      "metadata": {
        "id": "OXz8AaKDGTDY"
      },
      "source": [
        "def Chebyshev(x1, x2): #it is used for calculating Chebyshev distance\n",
        "    distance = []\n",
        "    for x in range(len(x1)-1):\n",
        "        distance.append(abs(x1[x] - x2[x]))\n",
        "    max_val = max(distance)\n",
        "    return max_val"
      ],
      "execution_count": 463,
      "outputs": []
    },
    {
      "cell_type": "markdown",
      "metadata": {
        "id": "Q7wNzUOeTv-0"
      },
      "source": [
        "Evaluation Funciton to find accuracy"
      ]
    },
    {
      "cell_type": "code",
      "metadata": {
        "id": "UqXakFGJGWra"
      },
      "source": [
        "def evaluate(y_pred,y_test):\n",
        "  correct = 0\n",
        "  for y_pred__,y_test__ in zip(y_pred,y_test):\n",
        "    if y_pred__== y_test__:\n",
        "      correct +=1\n",
        "  return correct/len(y_test)"
      ],
      "execution_count": 464,
      "outputs": []
    },
    {
      "cell_type": "markdown",
      "metadata": {
        "id": "nC8jEDCoNMSI"
      },
      "source": [
        "Chebyshev Distance Metric"
      ]
    },
    {
      "cell_type": "code",
      "metadata": {
        "id": "33am0bsJSrYH"
      },
      "source": [
        "def knn(X_train,X_test,y_train,k):\n",
        "  che_distances = {}\n",
        "  for x in range(len(X_train)):\n",
        "      distance = Chebyshev(X_train[x], X_test)\n",
        "      che_distances[x] = distance\n",
        "  sortdist = sorted(che_distances.items(), key=lambda x: x[1])\n",
        "\n",
        "  #To get K neighbours\n",
        "  neighbors = []\n",
        "  for x in range(k):\n",
        "      neighbors.append(sortdist[x][0])\n",
        "\n",
        "  class_count = {} #to get most frequent class of rows\n",
        "  for x in range(len(neighbors)):\n",
        "      class_y = y_train[neighbors[x]]\n",
        "      if class_y in class_count:\n",
        "          class_count[class_y] += 1\n",
        "      else:\n",
        "          class_count[class_y] = 1\n",
        "\n",
        "  sort_count = sorted(class_count.items(), key=lambda x: x[1], reverse=True)\n",
        "  return sort_count[0][0]\n"
      ],
      "execution_count": 465,
      "outputs": []
    },
    {
      "cell_type": "code",
      "metadata": {
        "id": "jWIkvUHKrb45",
        "outputId": "42822931-a381-4341-d90a-6d2d6c31bcff",
        "colab": {
          "base_uri": "https://localhost:8080/",
          "height": 51
        }
      },
      "source": [
        "import time\n",
        "start = time.time()\n",
        "y_pred = []\n",
        "\n",
        "for data in X_test:\n",
        "  z = knn(X_train,data,y_train,k=3)\n",
        "  y_pred.append(z)\n",
        "\n",
        "v = evaluate(y_pred,y_test)\n",
        "\n",
        "end = time.time()\n",
        "print(f\"Accuracy for Chebyshev: {v*100}\"+\"%\")\n",
        "print(f\"Runtime of the program is {end - start}\")"
      ],
      "execution_count": 466,
      "outputs": [
        {
          "output_type": "stream",
          "text": [
            "Accuracy for Chebyshev: 74.67532467532467%\n",
            "Runtime of the program is 0.5579440593719482\n"
          ],
          "name": "stdout"
        }
      ]
    },
    {
      "cell_type": "code",
      "metadata": {
        "id": "omBSJMOHrjH7"
      },
      "source": [
        "from sklearn.metrics import confusion_matrix,accuracy_score,classification_report"
      ],
      "execution_count": 467,
      "outputs": []
    },
    {
      "cell_type": "code",
      "metadata": {
        "id": "J5WE5k5wis7I",
        "outputId": "a66048ef-eaf4-4c37-e897-22638b27e73a",
        "colab": {
          "base_uri": "https://localhost:8080/",
          "height": 363
        }
      },
      "source": [
        "print(\"Confusion Matrix\")\n",
        "c_matrix = confusion_matrix(y_test,y_pred)\n",
        "print(matrix)\n",
        "\n",
        "pd.crosstab(np.array(y_test), np.array(y_pred), rownames=['Actual'], colnames=['Predicted'], margins=True)\n",
        "\n",
        "p = sns.heatmap(pd.DataFrame(c_matrix), annot=True,fmt='g')\n",
        "plt.title('Confusion matrix')\n",
        "plt.ylabel('Actual label')\n",
        "plt.xlabel('Predicted label')"
      ],
      "execution_count": 468,
      "outputs": [
        {
          "output_type": "stream",
          "text": [
            "Confusion Matrix\n",
            "[[88 19]\n",
            " [21 26]]\n"
          ],
          "name": "stdout"
        },
        {
          "output_type": "execute_result",
          "data": {
            "text/plain": [
              "Text(0.5, 15.0, 'Predicted label')"
            ]
          },
          "metadata": {
            "tags": []
          },
          "execution_count": 468
        },
        {
          "output_type": "display_data",
          "data": {
            "image/png": "[encoded data removed]",
            "text/plain": [
              "<Figure size 432x288 with 2 Axes>"
            ]
          },
          "metadata": {
            "tags": [],
            "needs_background": "light"
          }
        }
      ]
    },
    {
      "cell_type": "code",
      "metadata": {
        "id": "3XvYQSxdrs07",
        "outputId": "5022fc99-f7e2-4785-fc2d-9ce7cc31f1b1",
        "colab": {
          "base_uri": "https://localhost:8080/",
          "height": 34
        }
      },
      "source": [
        "accuracy_score(y_test, y_pred)"
      ],
      "execution_count": 469,
      "outputs": [
        {
          "output_type": "execute_result",
          "data": {
            "text/plain": [
              "0.7467532467532467"
            ]
          },
          "metadata": {
            "tags": []
          },
          "execution_count": 469
        }
      ]
    },
    {
      "cell_type": "markdown",
      "metadata": {
        "id": "5DAROYh1NPRd"
      },
      "source": [
        "Manhattan Distance Metric"
      ]
    },
    {
      "cell_type": "code",
      "metadata": {
        "id": "TvtVMR1US8g0"
      },
      "source": [
        "def knn(X_train,X_test,y_train,k):\n",
        "  man_distances = {}\n",
        "  for x in range(len(X_train)):\n",
        "      distance = Manhattan(X_train[x], X_test)\n",
        "      man_distances[x] = distance\n",
        "  sortdist = sorted(man_distances.items(), key=lambda x: x[1])\n",
        "\n",
        "  #To get K neighbours\n",
        "  neighbors = []\n",
        "  for x in range(k):\n",
        "      neighbors.append(sortdist[x][0])\n",
        "\n",
        "  class_count = {} #to get most frequent class of rows\n",
        "  for x in range(len(neighbors)):\n",
        "      class_y = y_train[neighbors[x]]\n",
        "      if class_y in class_count:\n",
        "          class_count[class_y] += 1\n",
        "      else:\n",
        "          class_count[class_y] = 1\n",
        " \n",
        "  sort_count = sorted(class_count.items(), key=lambda x: x[1], reverse=True)\n",
        "  return sort_count[0][0]\n"
      ],
      "execution_count": 470,
      "outputs": []
    },
    {
      "cell_type": "code",
      "metadata": {
        "id": "O5wW2qYJNhMv",
        "outputId": "5a595fcc-727f-48d8-ec0d-65f79df91c04",
        "colab": {
          "base_uri": "https://localhost:8080/",
          "height": 51
        }
      },
      "source": [
        "import time\n",
        "start = time.time()\n",
        "y_pred = []\n",
        "\n",
        "for data in X_test:\n",
        "  z = knn(X_train,data,y_train,k=3)\n",
        "  y_pred.append(z)\n",
        "\n",
        "v = evaluate(y_pred,y_test)\n",
        "end = time.time()\n",
        "print(f\"Accuracy for Manhattan: {v*100}\"+\"%\")\n",
        "print(f\"Runtime of the program is {end - start}\")"
      ],
      "execution_count": 471,
      "outputs": [
        {
          "output_type": "stream",
          "text": [
            "Accuracy for Manhattan: 74.02597402597402%\n",
            "Runtime of the program is 0.5457980632781982\n"
          ],
          "name": "stdout"
        }
      ]
    },
    {
      "cell_type": "code",
      "metadata": {
        "id": "tJ9CWPzZinrs",
        "outputId": "8e92c386-fa47-4300-e5c9-bf16ebfea6d1",
        "colab": {
          "base_uri": "https://localhost:8080/",
          "height": 363
        }
      },
      "source": [
        "print(\"Confusion Matrix\")\n",
        "c_matrix = confusion_matrix(y_test,y_pred)\n",
        "print(matrix)\n",
        "\n",
        "pd.crosstab(np.array(y_test), np.array(y_pred), rownames=['Actual'], colnames=['Predicted'], margins=True)\n",
        "\n",
        "p = sns.heatmap(pd.DataFrame(c_matrix), annot=True,fmt='g')\n",
        "plt.title('Confusion matrix')\n",
        "plt.ylabel('Actual label')\n",
        "plt.xlabel('Predicted label')"
      ],
      "execution_count": 472,
      "outputs": [
        {
          "output_type": "stream",
          "text": [
            "Confusion Matrix\n",
            "[[88 19]\n",
            " [21 26]]\n"
          ],
          "name": "stdout"
        },
        {
          "output_type": "execute_result",
          "data": {
            "text/plain": [
              "Text(0.5, 15.0, 'Predicted label')"
            ]
          },
          "metadata": {
            "tags": []
          },
          "execution_count": 472
        },
        {
          "output_type": "display_data",
          "data": {
            "image/png": "[encoded data removed]",
            "text/plain": [
              "<Figure size 432x288 with 2 Axes>"
            ]
          },
          "metadata": {
            "tags": [],
            "needs_background": "light"
          }
        }
      ]
    },
    {
      "cell_type": "code",
      "metadata": {
        "id": "86C7xWurOnA0",
        "outputId": "38b6962f-8df8-4a4c-e5f0-f11e35b343e2",
        "colab": {
          "base_uri": "https://localhost:8080/",
          "height": 34
        }
      },
      "source": [
        "accuracy_score(y_test, y_pred)"
      ],
      "execution_count": 473,
      "outputs": [
        {
          "output_type": "execute_result",
          "data": {
            "text/plain": [
              "0.7402597402597403"
            ]
          },
          "metadata": {
            "tags": []
          },
          "execution_count": 473
        }
      ]
    },
    {
      "cell_type": "markdown",
      "metadata": {
        "id": "pqK6ZRhEOtfg"
      },
      "source": [
        "Euclidean Distance Metric"
      ]
    },
    {
      "cell_type": "code",
      "metadata": {
        "id": "NOAAwTcmToxx"
      },
      "source": [
        "def knn(X_train,X_test,y_train,k):\n",
        "  euc_distances = {}\n",
        "  for x in range(len(X_train)):\n",
        "      distance = Euclidean(X_train[x], X_test)\n",
        "      euc_distances[x] = distance\n",
        "  sortdist = sorted(euc_distances.items(), key=lambda x: x[1])\n",
        "\n",
        "  #To get K neighbours\n",
        "  neighbors = []\n",
        "  for x in range(k):\n",
        "      neighbors.append(sortdist[x][0])\n",
        "\n",
        "  class_count = {} #to get most frequent class of rows\n",
        "  for x in range(len(neighbors)):\n",
        "      class_y = y_train[neighbors[x]]\n",
        "      if class_y in class_count:\n",
        "          class_count[class_y] += 1\n",
        "      else:\n",
        "          class_count[class_y] = 1\n",
        " \n",
        "  sort_count = sorted(class_count.items(), key=lambda x: x[1], reverse=True)\n",
        "  return sort_count[0][0]\n"
      ],
      "execution_count": 474,
      "outputs": []
    },
    {
      "cell_type": "code",
      "metadata": {
        "id": "ufuBAc7eOvZ3",
        "outputId": "d875f2a5-7a81-4e6e-8e71-7473cc0a3dd2",
        "colab": {
          "base_uri": "https://localhost:8080/",
          "height": 51
        }
      },
      "source": [
        "import time\n",
        "start = time.time()\n",
        "y_pred = []\n",
        "\n",
        "for data in X_test:\n",
        "  z = knn(X_train,data,y_train,k=3)\n",
        "  y_pred.append(z)\n",
        "\n",
        "v = evaluate(y_pred,y_test)\n",
        "end = time.time()\n",
        "print(f\"Accuracy for Euclidean: {v*100}\"+\"%\")\n",
        "print(f\"Runtime of the program is {end - start}\")"
      ],
      "execution_count": 475,
      "outputs": [
        {
          "output_type": "stream",
          "text": [
            "Accuracy for Euclidean: 74.02597402597402%\n",
            "Runtime of the program is 0.8762071132659912\n"
          ],
          "name": "stdout"
        }
      ]
    },
    {
      "cell_type": "code",
      "metadata": {
        "id": "OSTMxfyjiecr",
        "outputId": "97aa725c-ee75-4d31-bff2-e2f877ef45b6",
        "colab": {
          "base_uri": "https://localhost:8080/",
          "height": 363
        }
      },
      "source": [
        "print(\"Confusion Matrix\")\n",
        "c_matrix = confusion_matrix(y_test,y_pred)\n",
        "print(matrix)\n",
        "\n",
        "pd.crosstab(np.array(y_test), np.array(y_pred), rownames=['Actual'], colnames=['Predicted'], margins=True)\n",
        "\n",
        "p = sns.heatmap(pd.DataFrame(c_matrix), annot=True,fmt='g')\n",
        "plt.title('Confusion matrix')\n",
        "plt.ylabel('Actual label')\n",
        "plt.xlabel('Predicted label')"
      ],
      "execution_count": 476,
      "outputs": [
        {
          "output_type": "stream",
          "text": [
            "Confusion Matrix\n",
            "[[88 19]\n",
            " [21 26]]\n"
          ],
          "name": "stdout"
        },
        {
          "output_type": "execute_result",
          "data": {
            "text/plain": [
              "Text(0.5, 15.0, 'Predicted label')"
            ]
          },
          "metadata": {
            "tags": []
          },
          "execution_count": 476
        },
        {
          "output_type": "display_data",
          "data": {
            "image/png": "[encoded data removed]",
            "text/plain": [
              "<Figure size 432x288 with 2 Axes>"
            ]
          },
          "metadata": {
            "tags": [],
            "needs_background": "light"
          }
        }
      ]
    },
    {
      "cell_type": "code",
      "metadata": {
        "id": "hMN7VfYFOzxs",
        "outputId": "216a2524-da54-4661-88a3-deb6ee6b70f3",
        "colab": {
          "base_uri": "https://localhost:8080/",
          "height": 34
        }
      },
      "source": [
        "accuracy_score(y_test, y_pred)"
      ],
      "execution_count": 477,
      "outputs": [
        {
          "output_type": "execute_result",
          "data": {
            "text/plain": [
              "0.7402597402597403"
            ]
          },
          "metadata": {
            "tags": []
          },
          "execution_count": 477
        }
      ]
    },
    {
      "cell_type": "markdown",
      "metadata": {
        "id": "__EXkygzu7e4"
      },
      "source": [
        "# Feature Engineering - \n",
        "\n",
        "Use the below cell to do feature selection for better accuracy\n",
        "\n",
        "\n"
      ]
    },
    {
      "cell_type": "code",
      "metadata": {
        "id": "fn-0L7xZvEBh"
      },
      "source": [
        "#Uncomment the below code to get the better accuracy by feature selection\n",
        "\n",
        "from sklearn.model_selection import train_test_split\n",
        "\n",
        "X_diabetes_data=diabetes_data.drop(['Outcome','BloodPressure','DiabetesPedigreeFunction','SkinThickness','Age'],1).values\n",
        "y_diabetes_data=diabetes_data['Outcome'].values\n",
        "X_train, X_test, y_train, y_test = train_test_split(X_diabetes_data, y_diabetes_data,test_size=0.2,random_state=0)\n",
        "X_train,X_test = standardise(X_train,X_test)"
      ],
      "execution_count": 478,
      "outputs": []
    },
    {
      "cell_type": "code",
      "metadata": {
        "id": "J4fTCpC6vF1k"
      },
      "source": [
        "def knn(X_train,X_test,y_train,k):\n",
        "  euc_distances = {}\n",
        "  for x in range(len(X_train)):\n",
        "      distance = Euclidean(X_train[x], X_test)\n",
        "      # distance = Manhattan(X_train[x], X_test)\n",
        "      # distance = Chebyshev(X_train[x], X_test)\n",
        "      \n",
        "      euc_distances[x] = distance\n",
        "  sortdist = sorted(euc_distances.items(), key=lambda x: x[1])\n",
        "  neighbors = []\n",
        "  for x in range(k):\n",
        "      neighbors.append(sortdist[x][0])\n",
        "  \n",
        "  class_count = {} #to get most frequent class of rows\n",
        "  for x in range(len(neighbors)):\n",
        "      class_y = y_train[neighbors[x]]\n",
        "      if class_y in class_count:\n",
        "          class_count[class_y] += 1\n",
        "      else:\n",
        "          class_count[class_y] = 1 \n",
        "  sort_count = sorted(class_count.items(), key=lambda x: x[1], reverse=True)\n",
        "  return sort_count[0][0]\n"
      ],
      "execution_count": 488,
      "outputs": []
    },
    {
      "cell_type": "markdown",
      "metadata": {
        "id": "IepOs_mxwRoc"
      },
      "source": [
        "Euclidean Distance"
      ]
    },
    {
      "cell_type": "code",
      "metadata": {
        "id": "P0xR2oF-vXzE",
        "outputId": "ef0904f4-b9c0-46d5-f9f5-a556e40a7d9d",
        "colab": {
          "base_uri": "https://localhost:8080/",
          "height": 34
        }
      },
      "source": [
        "y_pred = []\n",
        "\n",
        "for data in X_test:\n",
        "  z = knn(X_train,data,y_train,k=3)\n",
        "  y_pred.append(z)\n",
        "\n",
        "v = evaluate(y_pred,y_test)\n",
        "print(v)"
      ],
      "execution_count": 480,
      "outputs": [
        {
          "output_type": "stream",
          "text": [
            "0.8376623376623377\n"
          ],
          "name": "stdout"
        }
      ]
    },
    {
      "cell_type": "markdown",
      "metadata": {
        "id": "7wnTExuRwU7b"
      },
      "source": [
        "Manhattan Distance"
      ]
    },
    {
      "cell_type": "code",
      "metadata": {
        "id": "DurYh9N-wAim",
        "outputId": "502707b0-195f-44cf-dfa9-eabc2be9131f",
        "colab": {
          "base_uri": "https://localhost:8080/",
          "height": 34
        }
      },
      "source": [
        "y_pred = []\n",
        "\n",
        "for data in X_test:\n",
        "  z = knn(X_train,data,y_train,k=3)\n",
        "  y_pred.append(z)\n",
        "\n",
        "v = evaluate(y_pred,y_test)\n",
        "print(v)"
      ],
      "execution_count": 485,
      "outputs": [
        {
          "output_type": "stream",
          "text": [
            "0.7727272727272727\n"
          ],
          "name": "stdout"
        }
      ]
    },
    {
      "cell_type": "markdown",
      "metadata": {
        "id": "1W_cd6O2wXIU"
      },
      "source": [
        "Chebyshev Distance"
      ]
    },
    {
      "cell_type": "code",
      "metadata": {
        "id": "Duwm-dR6wDA-",
        "outputId": "1edb234f-0030-4243-de30-c53a65d90faf",
        "colab": {
          "base_uri": "https://localhost:8080/",
          "height": 34
        }
      },
      "source": [
        "y_pred = []\n",
        "\n",
        "for data in X_test:\n",
        "  z = knn(X_train,data,y_train,k=3)\n",
        "  y_pred.append(z)\n",
        "\n",
        "v = evaluate(y_pred,y_test)\n",
        "print(v)"
      ],
      "execution_count": 487,
      "outputs": [
        {
          "output_type": "stream",
          "text": [
            "0.7207792207792207\n"
          ],
          "name": "stdout"
        }
      ]
    }
  ]
}